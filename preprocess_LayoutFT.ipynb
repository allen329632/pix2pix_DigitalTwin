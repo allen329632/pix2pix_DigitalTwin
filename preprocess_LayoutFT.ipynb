{
 "cells": [
  {
   "cell_type": "code",
   "execution_count": 459,
   "metadata": {},
   "outputs": [],
   "source": [
    "import numpy as np\n",
    "import cv2\n",
    "from statistics import median\n",
    "import os\n",
    "import matplotlib.pyplot as plt\n",
    "from cv2 import BORDER_CONSTANT\n",
    "#640x480"
   ]
  },
  {
   "cell_type": "code",
   "execution_count": 460,
   "metadata": {},
   "outputs": [],
   "source": [
    "image = cv2.imread(\"R1Layout.tiff\")\n",
    "lw = [100,150,200,250,300,350,400,450,500,550]#A\n",
    "#lw = [400,450,500,550,600]#B\n",
    "lg = [100,125,150,175,200,225,250,275,300,325]\n",
    "lg.reverse()\n",
    "r = 10\n",
    "c = 10\n",
    "xborder = 400\n",
    "yborder = 465\n",
    "#xborder = 2912\n",
    "#yborder = 2614\n",
    "xsize = 600\n",
    "ysize = 600\n",
    "xbias = 0\n",
    "ybias = 0\n",
    "suffix = ''\n",
    "shift_th = 100\n",
    "al_center = True\n",
    "pth = \"DatasetR1/R1Layout\"\n",
    "pth_resize = \"DatasetR1/R1Layout/cropped_image.png\"\n",
    "pth_split = \"DatasetR1/R1Layout/split\"\n",
    "pth_split_name = 'DatasetR1/R1Layout/split/w{}_g{}_3.jpg'"
   ]
  },
  {
   "cell_type": "code",
   "execution_count": 461,
   "metadata": {},
   "outputs": [],
   "source": [
    "def resize(img):\n",
    "    scale_percent = 20000 * 100 / img.shape[0] # percent of original size\n",
    "    #scale_percent = 2000 * 100 / img.shape[0] for the grayscale Dragonfly\n",
    "    width = int(img.shape[1] * scale_percent / 100)\n",
    "    height = int(img.shape[0] * scale_percent / 100)\n",
    "    dim = (width, height)\n",
    "    return cv2.resize(img, dim, interpolation = cv2.INTER_AREA)\n",
    "\n",
    "def resize_cropped(image, target_width, target_height):\n",
    "    resize_cropped = cv2.resize(image, (target_width, target_height))\n",
    "    return resize_cropped\n"
   ]
  },
  {
   "cell_type": "code",
   "execution_count": 462,
   "metadata": {},
   "outputs": [
    {
     "name": "stdout",
     "output_type": "stream",
     "text": [
      "10000\n"
     ]
    },
    {
     "data": {
      "text/plain": [
       "True"
      ]
     },
     "execution_count": 462,
     "metadata": {},
     "output_type": "execute_result"
    }
   ],
   "source": [
    "\n",
    "# Initial parameters\n",
    "vert = 0\n",
    "hori = 0\n",
    "y_tune = 6100\n",
    "x_tune = 6323\n",
    "x_moving_center = 675\n",
    "y_moving_center = 200\n",
    "\n",
    "# Assuming 'img' is your input image\n",
    "img = cv2.imread('R0black.tiff')  # Replace with the path to your input image\n",
    "\n",
    "# Calculate new dimensions\n",
    "height, width = img.shape[:2]\n",
    "new_height = height + vert\n",
    "new_width = width + hori\n",
    "\n",
    "# Apply border to the image\n",
    "resized = cv2.copyMakeBorder(img, vert//2, vert//2, hori//2, hori//2, cv2.BORDER_CONSTANT, value=[0, 0, 0])\n",
    "\n",
    "# Calculate center of the image\n",
    "center_x = resized.shape[1] // 2\n",
    "center_y = resized.shape[0] // 2\n",
    "\n",
    "# Calculate coordinates for cropping\n",
    "x_start = center_x - x_tune // 2 + x_moving_center\n",
    "y_start = center_y - y_tune // 2 + y_moving_center\n",
    "\n",
    "x_start = max(0, x_start)\n",
    "y_start = max(0, y_start)\n",
    "x_end = min(resized.shape[1], x_start + x_tune)\n",
    "y_end = min(resized.shape[0], y_start + y_tune)\n",
    "\n",
    "cropped = resized[y_start:y_end, x_start:x_end]\n",
    "print(img.shape[0])\n",
    "cv2.imwrite('DatasetR1/R1Layout/cropped_image.png', cropped)\n"
   ]
  },
  {
   "cell_type": "code",
   "execution_count": 463,
   "metadata": {},
   "outputs": [
    {
     "name": "stdout",
     "output_type": "stream",
     "text": [
      "606\n"
     ]
    }
   ],
   "source": [
    "\n",
    "\n",
    "#border is the distance from the border to the center of item closest to the border \n",
    "def split(img, r, c, xborder, yborder, xsize, ysize, xbias, ybias):\n",
    "    h,w,_ = img.shape\n",
    "    xdis = 606\n",
    "    ydis = 573\n",
    "    print(xdis)\n",
    "    x_shift_base = 0.2\n",
    "    for i in range(c):\n",
    "        for j in range(r):\n",
    "            x_shift = -int(i * x_shift_base)\n",
    "            #print(x_shift)\n",
    "            x_min = int(xborder + i * xdis - xsize / 2 + xbias )\n",
    "            x_max = int(xborder + i * xdis + xsize / 2 + xbias )\n",
    "            y_min = int(yborder + j * ydis - ysize / 2 + ybias )\n",
    "            y_max = int(yborder + j * ydis + ysize / 2 + ybias )\n",
    "            \n",
    "            crop_img = img[y_min:y_max, x_min:x_max]\n",
    "            grey = cv2.cvtColor(crop_img, cv2.COLOR_BGR2GRAY)\n",
    "            #print(\"crop_img:\", y_min, y_max, x_min, x_max)\n",
    "            if al_center:\n",
    "                shift_y = 0\n",
    "                #print(shift_y)\n",
    "                shift_x = 0\n",
    "                crop_img = img[y_min + shift_y:y_max + shift_y, x_min + shift_x+x_shift:x_max + shift_x+x_shift]\n",
    "                #print(\"cropimage: \", y_min + shift_y, y_max + shift_y, x_min + shift_x, x_max + shift_x)\n",
    "                grey = cv2.cvtColor(crop_img, cv2.COLOR_BGR2GRAY)\n",
    "            \n",
    "            if not os.path.exists(pth_split):\n",
    "                os.mkdir(pth_split)\n",
    "            \n",
    "            cv2.imwrite(pth_split_name.format(lw[i], lg[j]), grey)\n",
    "\n",
    "\n",
    "image = cv2.imread('DatasetR1/R1Layout/cropped_image.png')\n",
    "#cv2.imshow('1',image)\n",
    "split(image, r, c, xborder, yborder, xsize, ysize, xbias, ybias)\n",
    "            "
   ]
  }
 ],
 "metadata": {
  "kernelspec": {
   "display_name": "Python 3.9.7 ('base')",
   "language": "python",
   "name": "python3"
  },
  "language_info": {
   "codemirror_mode": {
    "name": "ipython",
    "version": 3
   },
   "file_extension": ".py",
   "mimetype": "text/x-python",
   "name": "python",
   "nbconvert_exporter": "python",
   "pygments_lexer": "ipython3",
   "version": "3.11.5"
  },
  "orig_nbformat": 2,
  "vscode": {
   "interpreter": {
    "hash": "064f4f16f018cab9f4e91dcc302caaae5fa9a29015ecb8f741b0fcb90a758fe8"
   }
  }
 },
 "nbformat": 4,
 "nbformat_minor": 2
}
